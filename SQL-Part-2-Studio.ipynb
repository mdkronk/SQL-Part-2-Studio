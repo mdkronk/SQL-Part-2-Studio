{
    "metadata": {
        "kernelspec": {
            "name": "SQL",
            "display_name": "SQL",
            "language": "sql"
        },
        "language_info": {
            "name": "sql",
            "version": ""
        },
        "extensions": {
            "azuredatastudio": {
                "version": 1,
                "views": []
            }
        }
    },
    "nbformat_minor": 2,
    "nbformat": 4,
    "cells": [
        {
            "cell_type": "markdown",
            "source": [
                "# Lesson 11: SQL Part 2 Studio\n",
                "\n",
                "> This studio asks you to create queries using the functions from this lesson. As you work through the studio, you may need to create more than one query to return the desired answer.  For others, you may need to combine functions together in order to answer the original query.  The questions have been organized in a way to help you puzzle out the answers.\n",
                "> \n",
                "> Happy querying! \n",
                "\n",
                "**The Dataset:**   \n",
                "\n",
                "> We will be working with the **BooksDB dataset** from Lesson 10.  You should already have access to it."
            ],
            "metadata": {
                "azdata_cell_guid": "bbaa021d-dbcb-4f90-a05f-f280d524589a"
            },
            "attachments": {}
        },
        {
            "cell_type": "markdown",
            "source": [
                "## The Questions:"
            ],
            "metadata": {
                "azdata_cell_guid": "bfc33995-70d4-4403-a870-39244e5e9727"
            }
        },
        {
            "cell_type": "markdown",
            "source": [
                "1.  Create a query that returns the longest title in the dataset.  We can do this in two steps.\n",
                "\n",
                "> A. Create a query that returns the length of the longest title.\n",
                "> \n",
                "> B. Create a query that uses the length you found in step A to find the longest title."
            ],
            "metadata": {
                "azdata_cell_guid": "29e63840-f200-4b1b-9239-4dc60a402c1d"
            },
            "attachments": {}
        },
        {
            "cell_type": "code",
            "source": [
                "select max(len(title))\r\n",
                "from BooksDB.dbo.books\r\n",
                "\r\n",
                "select title\r\n",
                "from BooksDB.dbo.books\r\n",
                "where len(title) = 186"
            ],
            "metadata": {
                "azdata_cell_guid": "fc1a211d-ea4e-446a-bbf8-e31499c50aba",
                "language": "sql"
            },
            "outputs": [
                {
                    "output_type": "display_data",
                    "data": {
                        "text/html": "(1 row affected)"
                    },
                    "metadata": {}
                },
                {
                    "output_type": "display_data",
                    "data": {
                        "text/html": "(1 row affected)"
                    },
                    "metadata": {}
                },
                {
                    "output_type": "display_data",
                    "data": {
                        "text/html": "Total execution time: 00:00:00.059"
                    },
                    "metadata": {}
                },
                {
                    "output_type": "execute_result",
                    "metadata": {},
                    "execution_count": 3,
                    "data": {
                        "application/vnd.dataresource+json": {
                            "schema": {
                                "fields": [
                                    {
                                        "name": "(No column name)"
                                    }
                                ]
                            },
                            "data": [
                                {
                                    "0": "186"
                                }
                            ]
                        },
                        "text/html": [
                            "<table>",
                            "<tr><th>(No column name)</th></tr>",
                            "<tr><td>186</td></tr>",
                            "</table>"
                        ]
                    }
                },
                {
                    "output_type": "execute_result",
                    "metadata": {},
                    "execution_count": 3,
                    "data": {
                        "application/vnd.dataresource+json": {
                            "schema": {
                                "fields": [
                                    {
                                        "name": "title"
                                    }
                                ]
                            },
                            "data": [
                                {
                                    "0": "Soccernomics: Why England Loses, Why Germany and Brazil Win, and Why the U.S., Japan, Australia, Turkey--and Even Iraq--Are Destined to Become the Kings of the World's Most Popular Sport"
                                }
                            ]
                        },
                        "text/html": [
                            "<table>",
                            "<tr><th>title</th></tr>",
                            "<tr><td>Soccernomics: Why England Loses, Why Germany and Brazil Win, and Why the U.S., Japan, Australia, Turkey--and Even Iraq--Are Destined to Become the Kings of the World's Most Popular Sport</td></tr>",
                            "</table>"
                        ]
                    }
                }
            ],
            "execution_count": 3
        },
        {
            "cell_type": "markdown",
            "source": [
                "2.  Use what you learned in question 1 to find the shortest author name.  \n",
                "\n",
                "> A. Create a query that returns the length of the shortest author.\n",
                "> \n",
                "> B. Create a query that returns the shortest author's name."
            ],
            "metadata": {
                "azdata_cell_guid": "5de64491-7324-44ce-bda4-e22b07229854"
            },
            "attachments": {}
        },
        {
            "cell_type": "code",
            "source": [
                "select min(len(authors))\r\n",
                "from BooksDB.dbo.books\r\n",
                "\r\n",
                "select authors\r\n",
                "from BooksDB.dbo.books\r\n",
                "where len(authors) = 3"
            ],
            "metadata": {
                "azdata_cell_guid": "61423c75-cb55-470f-b062-a1901d3da67c",
                "language": "sql",
                "tags": []
            },
            "outputs": [
                {
                    "output_type": "display_data",
                    "data": {
                        "text/html": "(1 row affected)"
                    },
                    "metadata": {}
                },
                {
                    "output_type": "display_data",
                    "data": {
                        "text/html": "(2 rows affected)"
                    },
                    "metadata": {}
                },
                {
                    "output_type": "display_data",
                    "data": {
                        "text/html": "Total execution time: 00:00:00.055"
                    },
                    "metadata": {}
                },
                {
                    "output_type": "execute_result",
                    "metadata": {},
                    "execution_count": 5,
                    "data": {
                        "application/vnd.dataresource+json": {
                            "schema": {
                                "fields": [
                                    {
                                        "name": "(No column name)"
                                    }
                                ]
                            },
                            "data": [
                                {
                                    "0": "3"
                                }
                            ]
                        },
                        "text/html": [
                            "<table>",
                            "<tr><th>(No column name)</th></tr>",
                            "<tr><td>3</td></tr>",
                            "</table>"
                        ]
                    }
                },
                {
                    "output_type": "execute_result",
                    "metadata": {},
                    "execution_count": 5,
                    "data": {
                        "application/vnd.dataresource+json": {
                            "schema": {
                                "fields": [
                                    {
                                        "name": "authors"
                                    }
                                ]
                            },
                            "data": [
                                {
                                    "0": "Avi"
                                },
                                {
                                    "0": "Avi"
                                }
                            ]
                        },
                        "text/html": [
                            "<table>",
                            "<tr><th>authors</th></tr>",
                            "<tr><td>Avi</td></tr>",
                            "<tr><td>Avi</td></tr>",
                            "</table>"
                        ]
                    }
                }
            ],
            "execution_count": 5
        },
        {
            "cell_type": "markdown",
            "source": [
                "3\\. How many titles contain the word \"The\"?  \n",
                "\n",
                "> A. Is there a difference between the number of titles that use \"The\" or \"the\"? No difference because of case insensitive."
            ],
            "metadata": {
                "azdata_cell_guid": "97f50346-9729-4d1b-926c-e1b53c5c5e68"
            },
            "attachments": {}
        },
        {
            "cell_type": "code",
            "source": [
                "select count(*) as TitlesWithThe\r\n",
                "from BooksDB.dbo.books\r\n",
                "where title like '%the%'\r\n",
                "\r\n",
                "select count(*) as TitlesWithThe\r\n",
                "from BooksDB.dbo.books\r\n",
                "where title like '%The%'"
            ],
            "metadata": {
                "azdata_cell_guid": "f58433db-eb3b-46e0-bb4d-85ca52d359b5",
                "language": "sql"
            },
            "outputs": [
                {
                    "output_type": "display_data",
                    "data": {
                        "text/html": "(1 row affected)"
                    },
                    "metadata": {}
                },
                {
                    "output_type": "display_data",
                    "data": {
                        "text/html": "(1 row affected)"
                    },
                    "metadata": {}
                },
                {
                    "output_type": "display_data",
                    "data": {
                        "text/html": "Total execution time: 00:00:00.080"
                    },
                    "metadata": {}
                },
                {
                    "output_type": "execute_result",
                    "metadata": {},
                    "execution_count": 8,
                    "data": {
                        "application/vnd.dataresource+json": {
                            "schema": {
                                "fields": [
                                    {
                                        "name": "TitlesWithThe"
                                    }
                                ]
                            },
                            "data": [
                                {
                                    "0": "4702"
                                }
                            ]
                        },
                        "text/html": [
                            "<table>",
                            "<tr><th>TitlesWithThe</th></tr>",
                            "<tr><td>4702</td></tr>",
                            "</table>"
                        ]
                    }
                },
                {
                    "output_type": "execute_result",
                    "metadata": {},
                    "execution_count": 8,
                    "data": {
                        "application/vnd.dataresource+json": {
                            "schema": {
                                "fields": [
                                    {
                                        "name": "TitlesWithThe"
                                    }
                                ]
                            },
                            "data": [
                                {
                                    "0": "4702"
                                }
                            ]
                        },
                        "text/html": [
                            "<table>",
                            "<tr><th>TitlesWithThe</th></tr>",
                            "<tr><td>4702</td></tr>",
                            "</table>"
                        ]
                    }
                }
            ],
            "execution_count": 8
        },
        {
            "cell_type": "markdown",
            "source": [
                "4.  How many authors' names _start_ with 'Z'?"
            ],
            "metadata": {
                "azdata_cell_guid": "e0d89eca-410d-4e29-82ca-265b79c73fea"
            },
            "attachments": {}
        },
        {
            "cell_type": "code",
            "source": [
                "select count(*) as AuthorsStartingWithZ\r\n",
                "from BooksDB.dbo.books\r\n",
                "where authors like 'z%'"
            ],
            "metadata": {
                "azdata_cell_guid": "850f04c8-458a-4cfb-95c4-4dbb7a3d63d0",
                "language": "sql"
            },
            "outputs": [
                {
                    "output_type": "display_data",
                    "data": {
                        "text/html": "(1 row affected)"
                    },
                    "metadata": {}
                },
                {
                    "output_type": "display_data",
                    "data": {
                        "text/html": "Total execution time: 00:00:00.043"
                    },
                    "metadata": {}
                },
                {
                    "output_type": "execute_result",
                    "metadata": {},
                    "execution_count": 10,
                    "data": {
                        "application/vnd.dataresource+json": {
                            "schema": {
                                "fields": [
                                    {
                                        "name": "AuthorsStartingWithZ"
                                    }
                                ]
                            },
                            "data": [
                                {
                                    "0": "11"
                                }
                            ]
                        },
                        "text/html": [
                            "<table>",
                            "<tr><th>AuthorsStartingWithZ</th></tr>",
                            "<tr><td>11</td></tr>",
                            "</table>"
                        ]
                    }
                }
            ],
            "execution_count": 10
        },
        {
            "cell_type": "markdown",
            "source": [
                "5\\. How many books have been identified as printed in a language other than English?  There are four language codes for English: 'en', 'eng', 'en-US', and 'en-UK'.  Use LEFT to answer the question.  (Do not use the wildcard)\n",
                "\n",
                "You might want to use one of these [comparison operators](https://docs.microsoft.com/en-us/sql/t-sql/language-elements/comparison-operators-transact-sql?view=sql-server-ver15)."
            ],
            "metadata": {
                "azdata_cell_guid": "7066afeb-79d2-4e7f-b497-cbde17655b19"
            },
            "attachments": {}
        },
        {
            "cell_type": "code",
            "source": [
                "select count(*) as NonEnglishBooksCount\r\n",
                "from BooksDB.dbo.books\r\n",
                "where left(language_code, 2) <> 'en'\r\n",
                ""
            ],
            "metadata": {
                "azdata_cell_guid": "5a85f5ae-dd59-4fa1-828a-c63fa330ff7f",
                "language": "sql"
            },
            "outputs": [
                {
                    "output_type": "display_data",
                    "data": {
                        "text/html": "(1 row affected)"
                    },
                    "metadata": {}
                },
                {
                    "output_type": "display_data",
                    "data": {
                        "text/html": "Total execution time: 00:00:00.042"
                    },
                    "metadata": {}
                },
                {
                    "output_type": "execute_result",
                    "metadata": {},
                    "execution_count": 21,
                    "data": {
                        "application/vnd.dataresource+json": {
                            "schema": {
                                "fields": [
                                    {
                                        "name": "NonEnglishBooksCount"
                                    }
                                ]
                            },
                            "data": [
                                {
                                    "0": "186"
                                }
                            ]
                        },
                        "text/html": [
                            "<table>",
                            "<tr><th>NonEnglishBooksCount</th></tr>",
                            "<tr><td>186</td></tr>",
                            "</table>"
                        ]
                    }
                }
            ],
            "execution_count": 21
        },
        {
            "cell_type": "markdown",
            "source": [
                "6\\. Retry question 5 using SUBSTRING."
            ],
            "metadata": {
                "azdata_cell_guid": "93153cd1-ecea-4e4b-87f5-2214993a7291"
            },
            "attachments": {}
        },
        {
            "cell_type": "code",
            "source": [
                "select count(*) as NonEnglishBooksCount\r\n",
                "from BooksDB.dbo.books\r\n",
                "where substring(language_code, 1, 2) <> 'en'"
            ],
            "metadata": {
                "azdata_cell_guid": "7756ae02-4ec2-4456-b3a7-c3604bf07e26",
                "language": "sql"
            },
            "outputs": [
                {
                    "output_type": "display_data",
                    "data": {
                        "text/html": "(1 row affected)"
                    },
                    "metadata": {}
                },
                {
                    "output_type": "display_data",
                    "data": {
                        "text/html": "Total execution time: 00:00:00.043"
                    },
                    "metadata": {}
                },
                {
                    "output_type": "execute_result",
                    "metadata": {},
                    "execution_count": 19,
                    "data": {
                        "application/vnd.dataresource+json": {
                            "schema": {
                                "fields": [
                                    {
                                        "name": "NonEnglishBooksCount"
                                    }
                                ]
                            },
                            "data": [
                                {
                                    "0": "186"
                                }
                            ]
                        },
                        "text/html": [
                            "<table>",
                            "<tr><th>NonEnglishBooksCount</th></tr>",
                            "<tr><td>186</td></tr>",
                            "</table>"
                        ]
                    }
                }
            ],
            "execution_count": 19
        },
        {
            "cell_type": "markdown",
            "source": [
                "7.  Create a column that returns the title, authors, and language codes.  Concatenate these elements so that they return in the following way: title by authors in language\\_code language.\n",
                "\n",
                "> A.  Check each selected column to see where any values are NULL.  Did any of the columns contain NULL values?  If so, which one?"
            ],
            "metadata": {
                "azdata_cell_guid": "c8124542-ea76-4153-96ef-f4db908fbd6c"
            },
            "attachments": {}
        },
        {
            "cell_type": "code",
            "source": [
                "select top 100 concat(title, ' by ', authors, ' in ', language_code, ' language.') as BookInfo\r\n",
                "from BooksDB.dbo.books\r\n",
                "order by title, authors, language_code\r\n",
                ""
            ],
            "metadata": {
                "azdata_cell_guid": "26705af1-6191-48b9-b649-7bc93cad102d",
                "language": "sql",
                "tags": []
            },
            "outputs": [
                {
                    "output_type": "display_data",
                    "data": {
                        "text/html": "(100 rows affected)"
                    },
                    "metadata": {}
                },
                {
                    "output_type": "display_data",
                    "data": {
                        "text/html": "Total execution time: 00:00:00.104"
                    },
                    "metadata": {}
                },
                {
                    "output_type": "execute_result",
                    "metadata": {},
                    "execution_count": 25,
                    "data": {
                        "application/vnd.dataresource+json": {
                            "schema": {
                                "fields": [
                                    {
                                        "name": "BookInfo"
                                    }
                                ]
                            },
                            "data": [
                                {
                                    "0": " Angels (Walsh Family, #3) by Marian Keyes in en-US language."
                                },
                                {
                                    "0": "\"حكايات فرغلي المستكاوي \"حكايتى مع كفر السحلاوية by حسن الجندي in ara language."
                                },
                                {
                                    "0": "#GIRLBOSS by Sophia Amoruso in eng language."
                                },
                                {
                                    "0": "1,000 Places to See Before You Die by Patricia Schultz in  language."
                                },
                                {
                                    "0": "1/4 جرام by Essam Youssef in ara language."
                                },
                                {
                                    "0": "10% Happier: How I Tamed the Voice in My Head, Reduced Stress Without Losing My Edge, and Found Self-Help That Actually Works by Dan   Harris in eng language."
                                },
                                {
                                    "0": "100 Bullets, Vol. 1: First Shot, Last Call by Brian Azzarello, Eduardo Risso in eng language."
                                },
                                {
                                    "0": "100 Love Sonnets by Pablo Neruda, Stephen Tapscott in eng language."
                                },
                                {
                                    "0": "100 Selected Poems by E.E. Cummings in en-US language."
                                },
                                {
                                    "0": "10th Anniversary (Women's Murder Club, #10) by James Patterson, Maxine Paetro in eng language."
                                },
                                {
                                    "0": "11 Birthdays (Willow Falls, #1) by Wendy Mass in eng language."
                                },
                                {
                                    "0": "11/22/63 by Stephen King in eng language."
                                },
                                {
                                    "0": "11th Hour (Women's Murder Club, #11) by James Patterson, Maxine Paetro in eng language."
                                },
                                {
                                    "0": "12th of Never (Women's Murder Club, #12) by James Patterson, Maxine Paetro in en-US language."
                                },
                                {
                                    "0": "13 Gifts (Willow Falls, #3) by Wendy Mass in eng language."
                                },
                                {
                                    "0": "13 Hours: The Inside Account of What Really Happened In Benghazi by Mitchell Zuckoff in eng language."
                                },
                                {
                                    "0": "13 Little Blue Envelopes (Little Blue Envelope, #1) by Maureen Johnson in eng language."
                                },
                                {
                                    "0": "14 by Peter Clines in eng language."
                                },
                                {
                                    "0": "1421: The Year China Discovered America by Gavin Menzies in eng language."
                                },
                                {
                                    "0": "1491: New Revelations of the Americas Before Columbus by Charles C. Mann in eng language."
                                },
                                {
                                    "0": "1493: Uncovering the New World Columbus Created by Charles C. Mann in en-GB language."
                                },
                                {
                                    "0": "14th Deadly Sin (Women’s Murder Club, #14) by James Patterson, Maxine Paetro in eng language."
                                },
                                {
                                    "0": "15th Affair (Women's Murder Club #15) by James Patterson, Maxine Paetro in eng language."
                                },
                                {
                                    "0": "16 Lighthouse Road (Cedar Cove, #1) by Debbie Macomber in eng language."
                                },
                                {
                                    "0": "1776 by David McCullough in eng language."
                                },
                                {
                                    "0": "1919 by أحمد مراد in ara language."
                                },
                                {
                                    "0": "1984 by George Orwell, Erich Fromm, Celâl Üster in eng language."
                                },
                                {
                                    "0": "1Q84 by Haruki Murakami, Jay Rubin, Philip Gabriel in eng language."
                                },
                                {
                                    "0": "1Q84 #1-2 (1Q84, #1-2) by Haruki Murakami, Jay Rubin in eng language."
                                },
                                {
                                    "0": "1Q84 BOOK 1 (1Q84, #1) by Haruki Murakami, 村上 春樹 in jpn language."
                                },
                                {
                                    "0": "1Q84 BOOK 2 (1Q84, #2) by Haruki Murakami in jpn language."
                                },
                                {
                                    "0": "1Q84 BOOK 3 (1Q84, #3) by Haruki Murakami, 村上 春樹 in jpn language."
                                },
                                {
                                    "0": "1st to Die (Women's Murder Club, #1) by James Patterson in en-US language."
                                },
                                {
                                    "0": "2 States: The Story of My Marriage by Chetan Bhagat in eng language."
                                },
                                {
                                    "0": "2 ضباط by Essam Youssef in ara language."
                                },
                                {
                                    "0": "2001: A Space Odyssey (Space Odyssey, #1) by Arthur C. Clarke in eng language."
                                },
                                {
                                    "0": "2010: Odyssey Two (Space Odyssey, #2) by Arthur C. Clarke in eng language."
                                },
                                {
                                    "0": "204 Rosewood Lane (Cedar Cove, #2) by Debbie Macomber in eng language."
                                },
                                {
                                    "0": "206 Bones (Temperance Brennan, #12) by Kathy Reichs in en-US language."
                                },
                                {
                                    "0": "2061: Odyssey Three (Space Odyssey, #3) by Arthur C. Clarke in eng language."
                                },
                                {
                                    "0": "20th Century Ghosts by Joe Hill, Christopher Golden in en-US language."
                                },
                                {
                                    "0": "2312 by Kim Stanley Robinson in eng language."
                                },
                                {
                                    "0": "2666 by Roberto Bolaño in spa language."
                                },
                                {
                                    "0": "28 حرف by أحمد حلمي in ara language."
                                },
                                {
                                    "0": "2BR02B by Kurt Vonnegut Jr. in eng language."
                                },
                                {
                                    "0": "2nd Chance (Women's Murder Club, #2) by James Patterson, Andrew Gross in eng language."
                                },
                                {
                                    "0": "30 Days of Night, Vol. 1 by Steve Niles, Ben Templesmith in  language."
                                },
                                {
                                    "0": "300 by Frank Miller, Lynn Varley in en-US language."
                                },
                                {
                                    "0": "3001: The Final Odyssey (Space Odyssey, #4) by Arthur C. Clarke in  language."
                                },
                                {
                                    "0": "3rd Degree (Women's Murder Club, #3) by James Patterson, Andrew Gross in  language."
                                },
                                {
                                    "0": "4:50 from Paddington (Miss Marple, #8) by Agatha Christie in eng language."
                                },
                                {
                                    "0": "44 Scotland Street (44 Scotland Street, #1) by Alexander McCall Smith in eng language."
                                },
                                {
                                    "0": "4th of July (Women's Murder Club, #4) by James Patterson, Maxine Paetro in eng language."
                                },
                                {
                                    "0": "5 cm by Donny Dhirgantoro in ind language."
                                },
                                {
                                    "0": "5 Very Good Reasons to Punch a Dolphin in the Mouth and Other Useful Guides by Matthew Inman in eng language."
                                },
                                {
                                    "0": "61 Hours (Jack Reacher, #14) by Lee Child in en-US language."
                                },
                                {
                                    "0": "7: An Experimental Mutiny Against Excess by Jen Hatmaker in eng language."
                                },
                                {
                                    "0": "77 Shadow Street (Pendleton, #1) by Dean Koontz in eng language."
                                },
                                {
                                    "0": "7th Heaven (Women's Murder Club, #7) by James Patterson, Maxine Paetro in eng language."
                                },
                                {
                                    "0": "84, Charing Cross Road by Helene Hanff in eng language."
                                },
                                {
                                    "0": "90 Minutes in Heaven: A True Story of Death and Life by Don Piper, Cecil Murphey in  language."
                                },
                                {
                                    "0": "A Bad Case of Stripes by David Shannon in eng language."
                                },
                                {
                                    "0": "A Bargain for Frances by Russell Hoban, Lillian Hoban in eng language."
                                },
                                {
                                    "0": "A Bear Called Paddington (Paddington, #1) by Michael Bond, Peggy Fortnum in eng language."
                                },
                                {
                                    "0": "A Beautiful Dark (A Beautiful Dark, #1) by Jocelyn Davies in en-US language."
                                },
                                {
                                    "0": "A Beautiful Mind by Sylvia Nasar in en-GB language."
                                },
                                {
                                    "0": "A Beautiful Wedding (Beautiful, #2.5) by Jamie McGuire in eng language."
                                },
                                {
                                    "0": "A Bend in the River by V.S. Naipaul in eng language."
                                },
                                {
                                    "0": "A Bend in the Road by Nicholas Sparks in eng language."
                                },
                                {
                                    "0": "A Better World (Brilliance Saga, #2) by Marcus Sakey in eng language."
                                },
                                {
                                    "0": "A Bite to Remember (Argeneau #5) by Lynsay Sands in eng language."
                                },
                                {
                                    "0": "A Blaze of Sun (A Shade of Vampire, #5) by Bella Forrest in eng language."
                                },
                                {
                                    "0": "A Book of Five Rings: The Classic Guide to Strategy by Miyamoto Musashi, Victor Harris in  language."
                                },
                                {
                                    "0": "A Breath of Snow and Ashes (Outlander, #6) by Diana Gabaldon in eng language."
                                },
                                {
                                    "0": "A Bridge Too Far by Cornelius Ryan in eng language."
                                },
                                {
                                    "0": "A Brief History of Seven Killings by Marlon James in eng language."
                                },
                                {
                                    "0": "A Brief History of Time by Stephen Hawking, Cao Chi, Phạm Văn Thiều in eng language."
                                },
                                {
                                    "0": "A Briefer History of Time by Stephen Hawking, Leonard Mlodinow in eng language."
                                },
                                {
                                    "0": "A Canticle for Leibowitz by Walter M. Miller Jr. in eng language."
                                },
                                {
                                    "0": "A Caress of Twilight (Merry Gentry, #2) by Laurell K. Hamilton in en-US language."
                                },
                                {
                                    "0": "A Caribbean Mystery (Miss Marple, #10) by Agatha Christie in eng language."
                                },
                                {
                                    "0": "A Case of Need by Jeffery Hudson, Michael Crichton in en-US language."
                                },
                                {
                                    "0": "A Castle of Sand (A Shade of Vampire, #3) by Bella Forrest in eng language."
                                },
                                {
                                    "0": "A Certain Slant of Light (Light, #1) by Laura Whitcomb in en-US language."
                                },
                                {
                                    "0": "A Chair for My Mother by Vera B. Williams in eng language."
                                },
                                {
                                    "0": "A Charlie Brown Christmas by Charles M. Schulz in  language."
                                },
                                {
                                    "0": "A Child Called \"It\" (Dave Pelzer #1) by Dave Pelzer in eng language."
                                },
                                {
                                    "0": "A Child's Garden of Verses by Robert Louis Stevenson, Tasha Tudor in eng language."
                                },
                                {
                                    "0": "A Christmas Carol by Charles Dickens in  language."
                                },
                                {
                                    "0": "A Christmas Carol and Other Christmas Writings by Charles Dickens, Michael Slater in eng language."
                                },
                                {
                                    "0": "A Christmas Carol, The Chimes and The Cricket on the Hearth by Charles Dickens, Katharine Kroeber Wiley in  language."
                                },
                                {
                                    "0": "A Civil Action by Jonathan Harr in en-US language."
                                },
                                {
                                    "0": "A Civil Campaign (Vorkosigan Saga, #12) by Lois McMaster Bujold in eng language."
                                },
                                {
                                    "0": "A Clash of Kings  (A Song of Ice and Fire, #2) by George R.R. Martin in eng language."
                                },
                                {
                                    "0": "A Clockwork Orange by Anthony Burgess in eng language."
                                },
                                {
                                    "0": "A Color of His Own by Leo Lionni in  language."
                                },
                                {
                                    "0": "A Complicated Kindness by Miriam Toews in en-US language."
                                },
                                {
                                    "0": "A Coney Island of the Mind by Lawrence Ferlinghetti in eng language."
                                },
                                {
                                    "0": "A Confederacy of Dunces by John Kennedy Toole, Walker Percy in eng language."
                                },
                                {
                                    "0": "A Connecticut Yankee in King Arthur's Court by Mark Twain in eng language."
                                }
                            ]
                        },
                        "text/html": [
                            "<table>",
                            "<tr><th>BookInfo</th></tr>",
                            "<tr><td> Angels (Walsh Family, #3) by Marian Keyes in en-US language.</td></tr>",
                            "<tr><td>&quot;حكايات فرغلي المستكاوي &quot;حكايتى مع كفر السحلاوية by حسن الجندي in ara language.</td></tr>",
                            "<tr><td>#GIRLBOSS by Sophia Amoruso in eng language.</td></tr>",
                            "<tr><td>1,000 Places to See Before You Die by Patricia Schultz in  language.</td></tr>",
                            "<tr><td>1/4 جرام by Essam Youssef in ara language.</td></tr>",
                            "<tr><td>10% Happier: How I Tamed the Voice in My Head, Reduced Stress Without Losing My Edge, and Found Self-Help That Actually Works by Dan   Harris in eng language.</td></tr>",
                            "<tr><td>100 Bullets, Vol. 1: First Shot, Last Call by Brian Azzarello, Eduardo Risso in eng language.</td></tr>",
                            "<tr><td>100 Love Sonnets by Pablo Neruda, Stephen Tapscott in eng language.</td></tr>",
                            "<tr><td>100 Selected Poems by E.E. Cummings in en-US language.</td></tr>",
                            "<tr><td>10th Anniversary (Women's Murder Club, #10) by James Patterson, Maxine Paetro in eng language.</td></tr>",
                            "<tr><td>11 Birthdays (Willow Falls, #1) by Wendy Mass in eng language.</td></tr>",
                            "<tr><td>11/22/63 by Stephen King in eng language.</td></tr>",
                            "<tr><td>11th Hour (Women's Murder Club, #11) by James Patterson, Maxine Paetro in eng language.</td></tr>",
                            "<tr><td>12th of Never (Women's Murder Club, #12) by James Patterson, Maxine Paetro in en-US language.</td></tr>",
                            "<tr><td>13 Gifts (Willow Falls, #3) by Wendy Mass in eng language.</td></tr>",
                            "<tr><td>13 Hours: The Inside Account of What Really Happened In Benghazi by Mitchell Zuckoff in eng language.</td></tr>",
                            "<tr><td>13 Little Blue Envelopes (Little Blue Envelope, #1) by Maureen Johnson in eng language.</td></tr>",
                            "<tr><td>14 by Peter Clines in eng language.</td></tr>",
                            "<tr><td>1421: The Year China Discovered America by Gavin Menzies in eng language.</td></tr>",
                            "<tr><td>1491: New Revelations of the Americas Before Columbus by Charles C. Mann in eng language.</td></tr>",
                            "<tr><td>1493: Uncovering the New World Columbus Created by Charles C. Mann in en-GB language.</td></tr>",
                            "<tr><td>14th Deadly Sin (Women’s Murder Club, #14) by James Patterson, Maxine Paetro in eng language.</td></tr>",
                            "<tr><td>15th Affair (Women's Murder Club #15) by James Patterson, Maxine Paetro in eng language.</td></tr>",
                            "<tr><td>16 Lighthouse Road (Cedar Cove, #1) by Debbie Macomber in eng language.</td></tr>",
                            "<tr><td>1776 by David McCullough in eng language.</td></tr>",
                            "<tr><td>1919 by أحمد مراد in ara language.</td></tr>",
                            "<tr><td>1984 by George Orwell, Erich Fromm, Celâl Üster in eng language.</td></tr>",
                            "<tr><td>1Q84 by Haruki Murakami, Jay Rubin, Philip Gabriel in eng language.</td></tr>",
                            "<tr><td>1Q84 #1-2 (1Q84, #1-2) by Haruki Murakami, Jay Rubin in eng language.</td></tr>",
                            "<tr><td>1Q84 BOOK 1 (1Q84, #1) by Haruki Murakami, 村上 春樹 in jpn language.</td></tr>",
                            "<tr><td>1Q84 BOOK 2 (1Q84, #2) by Haruki Murakami in jpn language.</td></tr>",
                            "<tr><td>1Q84 BOOK 3 (1Q84, #3) by Haruki Murakami, 村上 春樹 in jpn language.</td></tr>",
                            "<tr><td>1st to Die (Women's Murder Club, #1) by James Patterson in en-US language.</td></tr>",
                            "<tr><td>2 States: The Story of My Marriage by Chetan Bhagat in eng language.</td></tr>",
                            "<tr><td>2 ضباط by Essam Youssef in ara language.</td></tr>",
                            "<tr><td>2001: A Space Odyssey (Space Odyssey, #1) by Arthur C. Clarke in eng language.</td></tr>",
                            "<tr><td>2010: Odyssey Two (Space Odyssey, #2) by Arthur C. Clarke in eng language.</td></tr>",
                            "<tr><td>204 Rosewood Lane (Cedar Cove, #2) by Debbie Macomber in eng language.</td></tr>",
                            "<tr><td>206 Bones (Temperance Brennan, #12) by Kathy Reichs in en-US language.</td></tr>",
                            "<tr><td>2061: Odyssey Three (Space Odyssey, #3) by Arthur C. Clarke in eng language.</td></tr>",
                            "<tr><td>20th Century Ghosts by Joe Hill, Christopher Golden in en-US language.</td></tr>",
                            "<tr><td>2312 by Kim Stanley Robinson in eng language.</td></tr>",
                            "<tr><td>2666 by Roberto Bolaño in spa language.</td></tr>",
                            "<tr><td>28 حرف by أحمد حلمي in ara language.</td></tr>",
                            "<tr><td>2BR02B by Kurt Vonnegut Jr. in eng language.</td></tr>",
                            "<tr><td>2nd Chance (Women's Murder Club, #2) by James Patterson, Andrew Gross in eng language.</td></tr>",
                            "<tr><td>30 Days of Night, Vol. 1 by Steve Niles, Ben Templesmith in  language.</td></tr>",
                            "<tr><td>300 by Frank Miller, Lynn Varley in en-US language.</td></tr>",
                            "<tr><td>3001: The Final Odyssey (Space Odyssey, #4) by Arthur C. Clarke in  language.</td></tr>",
                            "<tr><td>3rd Degree (Women's Murder Club, #3) by James Patterson, Andrew Gross in  language.</td></tr>",
                            "<tr><td>4:50 from Paddington (Miss Marple, #8) by Agatha Christie in eng language.</td></tr>",
                            "<tr><td>44 Scotland Street (44 Scotland Street, #1) by Alexander McCall Smith in eng language.</td></tr>",
                            "<tr><td>4th of July (Women's Murder Club, #4) by James Patterson, Maxine Paetro in eng language.</td></tr>",
                            "<tr><td>5 cm by Donny Dhirgantoro in ind language.</td></tr>",
                            "<tr><td>5 Very Good Reasons to Punch a Dolphin in the Mouth and Other Useful Guides by Matthew Inman in eng language.</td></tr>",
                            "<tr><td>61 Hours (Jack Reacher, #14) by Lee Child in en-US language.</td></tr>",
                            "<tr><td>7: An Experimental Mutiny Against Excess by Jen Hatmaker in eng language.</td></tr>",
                            "<tr><td>77 Shadow Street (Pendleton, #1) by Dean Koontz in eng language.</td></tr>",
                            "<tr><td>7th Heaven (Women's Murder Club, #7) by James Patterson, Maxine Paetro in eng language.</td></tr>",
                            "<tr><td>84, Charing Cross Road by Helene Hanff in eng language.</td></tr>",
                            "<tr><td>90 Minutes in Heaven: A True Story of Death and Life by Don Piper, Cecil Murphey in  language.</td></tr>",
                            "<tr><td>A Bad Case of Stripes by David Shannon in eng language.</td></tr>",
                            "<tr><td>A Bargain for Frances by Russell Hoban, Lillian Hoban in eng language.</td></tr>",
                            "<tr><td>A Bear Called Paddington (Paddington, #1) by Michael Bond, Peggy Fortnum in eng language.</td></tr>",
                            "<tr><td>A Beautiful Dark (A Beautiful Dark, #1) by Jocelyn Davies in en-US language.</td></tr>",
                            "<tr><td>A Beautiful Mind by Sylvia Nasar in en-GB language.</td></tr>",
                            "<tr><td>A Beautiful Wedding (Beautiful, #2.5) by Jamie McGuire in eng language.</td></tr>",
                            "<tr><td>A Bend in the River by V.S. Naipaul in eng language.</td></tr>",
                            "<tr><td>A Bend in the Road by Nicholas Sparks in eng language.</td></tr>",
                            "<tr><td>A Better World (Brilliance Saga, #2) by Marcus Sakey in eng language.</td></tr>",
                            "<tr><td>A Bite to Remember (Argeneau #5) by Lynsay Sands in eng language.</td></tr>",
                            "<tr><td>A Blaze of Sun (A Shade of Vampire, #5) by Bella Forrest in eng language.</td></tr>",
                            "<tr><td>A Book of Five Rings: The Classic Guide to Strategy by Miyamoto Musashi, Victor Harris in  language.</td></tr>",
                            "<tr><td>A Breath of Snow and Ashes (Outlander, #6) by Diana Gabaldon in eng language.</td></tr>",
                            "<tr><td>A Bridge Too Far by Cornelius Ryan in eng language.</td></tr>",
                            "<tr><td>A Brief History of Seven Killings by Marlon James in eng language.</td></tr>",
                            "<tr><td>A Brief History of Time by Stephen Hawking, Cao Chi, Phạm Văn Thiều in eng language.</td></tr>",
                            "<tr><td>A Briefer History of Time by Stephen Hawking, Leonard Mlodinow in eng language.</td></tr>",
                            "<tr><td>A Canticle for Leibowitz by Walter M. Miller Jr. in eng language.</td></tr>",
                            "<tr><td>A Caress of Twilight (Merry Gentry, #2) by Laurell K. Hamilton in en-US language.</td></tr>",
                            "<tr><td>A Caribbean Mystery (Miss Marple, #10) by Agatha Christie in eng language.</td></tr>",
                            "<tr><td>A Case of Need by Jeffery Hudson, Michael Crichton in en-US language.</td></tr>",
                            "<tr><td>A Castle of Sand (A Shade of Vampire, #3) by Bella Forrest in eng language.</td></tr>",
                            "<tr><td>A Certain Slant of Light (Light, #1) by Laura Whitcomb in en-US language.</td></tr>",
                            "<tr><td>A Chair for My Mother by Vera B. Williams in eng language.</td></tr>",
                            "<tr><td>A Charlie Brown Christmas by Charles M. Schulz in  language.</td></tr>",
                            "<tr><td>A Child Called &quot;It&quot; (Dave Pelzer #1) by Dave Pelzer in eng language.</td></tr>",
                            "<tr><td>A Child's Garden of Verses by Robert Louis Stevenson, Tasha Tudor in eng language.</td></tr>",
                            "<tr><td>A Christmas Carol by Charles Dickens in  language.</td></tr>",
                            "<tr><td>A Christmas Carol and Other Christmas Writings by Charles Dickens, Michael Slater in eng language.</td></tr>",
                            "<tr><td>A Christmas Carol, The Chimes and The Cricket on the Hearth by Charles Dickens, Katharine Kroeber Wiley in  language.</td></tr>",
                            "<tr><td>A Civil Action by Jonathan Harr in en-US language.</td></tr>",
                            "<tr><td>A Civil Campaign (Vorkosigan Saga, #12) by Lois McMaster Bujold in eng language.</td></tr>",
                            "<tr><td>A Clash of Kings  (A Song of Ice and Fire, #2) by George R.R. Martin in eng language.</td></tr>",
                            "<tr><td>A Clockwork Orange by Anthony Burgess in eng language.</td></tr>",
                            "<tr><td>A Color of His Own by Leo Lionni in  language.</td></tr>",
                            "<tr><td>A Complicated Kindness by Miriam Toews in en-US language.</td></tr>",
                            "<tr><td>A Coney Island of the Mind by Lawrence Ferlinghetti in eng language.</td></tr>",
                            "<tr><td>A Confederacy of Dunces by John Kennedy Toole, Walker Percy in eng language.</td></tr>",
                            "<tr><td>A Connecticut Yankee in King Arthur's Court by Mark Twain in eng language.</td></tr>",
                            "</table>"
                        ]
                    }
                }
            ],
            "execution_count": 25
        },
        {
            "cell_type": "markdown",
            "source": [
                "8.  Update the query in question 7 using COALESCE to change the language code values from NULL to 'unknown'.\n",
                "\n",
                "> A.  Has this changed the language\\_code  where the values are NULL?"
            ],
            "metadata": {
                "azdata_cell_guid": "17fd76a8-afa7-4d86-a200-2902d7310a2b"
            },
            "attachments": {}
        },
        {
            "cell_type": "code",
            "source": [
                "select top 100 concat(title, ' by ', authors, ' in ', coalesce(language_code, 'unknown'), ' language.') as BookInfo\r\n",
                "from BooksDB.dbo.books\r\n",
                "where language_code is null\r\n",
                "order by title, authors, language_code"
            ],
            "metadata": {
                "azdata_cell_guid": "f9694996-4545-48b9-9981-325b5c590570",
                "language": "sql"
            },
            "outputs": [
                {
                    "output_type": "display_data",
                    "data": {
                        "text/html": "(100 rows affected)"
                    },
                    "metadata": {}
                },
                {
                    "output_type": "display_data",
                    "data": {
                        "text/html": "Total execution time: 00:00:00.088"
                    },
                    "metadata": {}
                },
                {
                    "output_type": "execute_result",
                    "metadata": {},
                    "execution_count": 27,
                    "data": {
                        "application/vnd.dataresource+json": {
                            "schema": {
                                "fields": [
                                    {
                                        "name": "BookInfo"
                                    }
                                ]
                            },
                            "data": [
                                {
                                    "0": "1,000 Places to See Before You Die by Patricia Schultz in unknown language."
                                },
                                {
                                    "0": "30 Days of Night, Vol. 1 by Steve Niles, Ben Templesmith in unknown language."
                                },
                                {
                                    "0": "3001: The Final Odyssey (Space Odyssey, #4) by Arthur C. Clarke in unknown language."
                                },
                                {
                                    "0": "3rd Degree (Women's Murder Club, #3) by James Patterson, Andrew Gross in unknown language."
                                },
                                {
                                    "0": "90 Minutes in Heaven: A True Story of Death and Life by Don Piper, Cecil Murphey in unknown language."
                                },
                                {
                                    "0": "A Book of Five Rings: The Classic Guide to Strategy by Miyamoto Musashi, Victor Harris in unknown language."
                                },
                                {
                                    "0": "A Charlie Brown Christmas by Charles M. Schulz in unknown language."
                                },
                                {
                                    "0": "A Christmas Carol by Charles Dickens in unknown language."
                                },
                                {
                                    "0": "A Christmas Carol, The Chimes and The Cricket on the Hearth by Charles Dickens, Katharine Kroeber Wiley in unknown language."
                                },
                                {
                                    "0": "A Color of His Own by Leo Lionni in unknown language."
                                },
                                {
                                    "0": "A Course in Miracles by Foundation for Inner Peace in unknown language."
                                },
                                {
                                    "0": "A Death in Sweden by Kevin Wignall in unknown language."
                                },
                                {
                                    "0": "A Fall of Marigolds by Susan Meissner in unknown language."
                                },
                                {
                                    "0": "A Fraction of the Whole by Steve Toltz in unknown language."
                                },
                                {
                                    "0": "A Game of Thrones / A Clash of Kings (A Song of Ice and Fire, #1-2) by George R.R. Martin in unknown language."
                                },
                                {
                                    "0": "A Girl Named Zippy by Haven Kimmel in unknown language."
                                },
                                {
                                    "0": "A Good Man is Hard to Find and Other Stories by Flannery O'Connor in unknown language."
                                },
                                {
                                    "0": "A Hidden Fire (Elemental Mysteries, #1) by Elizabeth   Hunter in unknown language."
                                },
                                {
                                    "0": "A Killing Frost (Tomorrow, #3) by John Marsden in unknown language."
                                },
                                {
                                    "0": "A Kiss for Little Bear (An I Can Read Book) by Minarik, Else Holmelund [1984] by Else Holmelund Minarik, Maurice Sendak in unknown language."
                                },
                                {
                                    "0": "A Light in the Window (Mitford Years, #2) by Jan Karon in unknown language."
                                },
                                {
                                    "0": "A Living Nightmare (Cirque Du Freak, #1) by Darren Shan in unknown language."
                                },
                                {
                                    "0": "A Man in Full by Tom Wolfe in unknown language."
                                },
                                {
                                    "0": "A Matter of Honor by Jeffrey Archer in unknown language."
                                },
                                {
                                    "0": "A Modest Proposal by Jonathan Swift in unknown language."
                                },
                                {
                                    "0": "A New Song (Mitford Years, #5) by Jan Karon in unknown language."
                                },
                                {
                                    "0": "A Perfect Spy by John le Carré in unknown language."
                                },
                                {
                                    "0": "A Raisin in the Sun by Lorraine Hansberry in unknown language."
                                },
                                {
                                    "0": "A Return to Love: Reflections on the Principles of \"A Course in Miracles\" by Marianne Williamson in unknown language."
                                },
                                {
                                    "0": "A Sand County Almanac and Sketches Here and There by Aldo Leopold in unknown language."
                                },
                                {
                                    "0": "A Scandal in Bohemia (The Adventures of Sherlock Holmes, #1) by Ronald Holt, Arthur Conan Doyle in unknown language."
                                },
                                {
                                    "0": "A Separate Reality by Carlos Castaneda in unknown language."
                                },
                                {
                                    "0": "A Simple Plan by Scott B. Smith in unknown language."
                                },
                                {
                                    "0": "A Son of the Circus by John Irving in unknown language."
                                },
                                {
                                    "0": "A Spell for Chameleon (Xanth #1) by Piers Anthony in unknown language."
                                },
                                {
                                    "0": "A Summer Affair by Elin Hilderbrand in unknown language."
                                },
                                {
                                    "0": "A Total Waste of Makeup (Charlize Edwards, #1) by Kim Gruenenfelder in unknown language."
                                },
                                {
                                    "0": "A Wedding in December by Anita Shreve in unknown language."
                                },
                                {
                                    "0": "A Widow for One Year by John Irving in unknown language."
                                },
                                {
                                    "0": "Accident by Danielle Steel in unknown language."
                                },
                                {
                                    "0": "Act Like a Lady, Think Like a Man: What Men Really Think About Love, Relationships, Intimacy, and Commitment by Steve Harvey in unknown language."
                                },
                                {
                                    "0": "Adam Bede by George Eliot, Joanna Trollope, Hugh Osborne in unknown language."
                                },
                                {
                                    "0": "Afterwards by Rosamund Lupton in unknown language."
                                },
                                {
                                    "0": "Agnes Grey by Anne Brontë, Angeline Goreau in unknown language."
                                },
                                {
                                    "0": "Alex Cross, Run (Alex Cross, #20) by James Patterson in unknown language."
                                },
                                {
                                    "0": "All Around the Town by Mary Higgins Clark in unknown language."
                                },
                                {
                                    "0": "All Families are Psychotic by Douglas Coupland in unknown language."
                                },
                                {
                                    "0": "All Things Wise and Wonderful by James Herriot in unknown language."
                                },
                                {
                                    "0": "Allies of the Night (Cirque du Freak, #8) by Darren Shan in unknown language."
                                },
                                {
                                    "0": "Almost French: Love and a New Life in Paris by Sarah Turnbull in unknown language."
                                },
                                {
                                    "0": "Amsterdam by Ian McEwan in unknown language."
                                },
                                {
                                    "0": "Amy and Isabelle  by Elizabeth Strout in unknown language."
                                },
                                {
                                    "0": "An Essay Concerning Human Understanding by John Locke in unknown language."
                                },
                                {
                                    "0": "An Illustrated Life: Drawing Inspiration From The Private Sketchbooks Of Artists, Illustrators And Designers by Danny Gregory in unknown language."
                                },
                                {
                                    "0": "An Old-Fashioned Girl by Louisa May Alcott in unknown language."
                                },
                                {
                                    "0": "Anastasia Krupnik (Anastasia Krupnik, #1) by Lois Lowry in unknown language."
                                },
                                {
                                    "0": "Anatomy for the Artist by Jenő Barcsay in unknown language."
                                },
                                {
                                    "0": "And the Band Played On: Politics, People, and the AIDS Epidemic by Randy Shilts, William Greider in unknown language."
                                },
                                {
                                    "0": "Andy Goldsworthy: A Collaboration with Nature by Andy Goldsworthy in unknown language."
                                },
                                {
                                    "0": "Angel Falls by Kristin Hannah in unknown language."
                                },
                                {
                                    "0": "Angels and Demons / The Da Vinci Code (Robert Langdon, #1-2) by Dan Brown in unknown language."
                                },
                                {
                                    "0": "Annabel (Delirium, #0.5) by Lauren Oliver in unknown language."
                                },
                                {
                                    "0": "Anne Frank : The Biography by Melissa Müller, Rita Kimber, Robert Kimber in unknown language."
                                },
                                {
                                    "0": "Anne Frank: Beyond the Diary - A Photographic Remembrance by Ruud van der Rol, Rian Verhoeven, Anna Quindlen, Anne Frank, Tony Langham, Plym Peters in unknown language."
                                },
                                {
                                    "0": "Anne Frank's Tales from the Secret Annex by Anne Frank, Susan Massotty in unknown language."
                                },
                                {
                                    "0": "Anne of Windy Poplars (Anne of Green Gables, #4) by L.M. Montgomery in unknown language."
                                },
                                {
                                    "0": "Antigone by Jean Anouilh in unknown language."
                                },
                                {
                                    "0": "Anybody Out There? (Walsh Family, #4) by Marian Keyes in unknown language."
                                },
                                {
                                    "0": "Apathy and Other Small Victories by Paul Neilan in unknown language."
                                },
                                {
                                    "0": "April 1865: The Month That Saved America by Jay Winik in unknown language."
                                },
                                {
                                    "0": "Arch of Triumph: A Novel of a Man Without a Country by Erich Maria Remarque in unknown language."
                                },
                                {
                                    "0": "Archangel's Blade (Guild Hunter, #4) by Nalini Singh in unknown language."
                                },
                                {
                                    "0": "Are You There, Vodka? It's Me, Chelsea by Chelsea Handler in unknown language."
                                },
                                {
                                    "0": "Aristotle and Dante Discover the Secrets of the Universe (Aristotle and Dante Discover the Secrets of the Universe, #1) by Benjamin Alire Sáenz in unknown language."
                                },
                                {
                                    "0": "Armageddon's Children (Genesis of Shannara, #1) by Terry Brooks in unknown language."
                                },
                                {
                                    "0": "Arsenic and Old Lace by Joseph Kesselring in unknown language."
                                },
                                {
                                    "0": "As the Crow Flies by Jeffrey Archer in unknown language."
                                },
                                {
                                    "0": "Audrey Rose by Frank De Felitta in unknown language."
                                },
                                {
                                    "0": "Avalon High by Meg Cabot in unknown language."
                                },
                                {
                                    "0": "Avatar: The Last Airbender (The Promise, #1) by Gene Luen Yang, Bryan Konietzko, Michael Dante DiMartino, Gurihiru in unknown language."
                                },
                                {
                                    "0": "Away Laughing on a Fast Camel (Confessions of Georgia Nicolson, #5) by Louise Rennison in unknown language."
                                },
                                {
                                    "0": "Axel (Corps Security, #1) by Harper Sloan in unknown language."
                                },
                                {
                                    "0": "Babbitt by Sinclair Lewis in unknown language."
                                },
                                {
                                    "0": "Barefoot Contessa at Home: Everyday Recipes You'll Make Over and Over Again by Ina Garten, Quentin Bacon in unknown language."
                                },
                                {
                                    "0": "Basket Case by Carl Hiaasen in unknown language."
                                },
                                {
                                    "0": "Beach Town by Mary Kay Andrews in unknown language."
                                },
                                {
                                    "0": "Beauty and the Beast by Walt Disney Company, Ellen Titlebaum in unknown language."
                                },
                                {
                                    "0": "Beauty and the Beast (Disney) by Teddy Slater, Ron Dias, Ric González in unknown language."
                                },
                                {
                                    "0": "Because I'm Worth It (Gossip Girl, #4) by Cecily von Ziegesar in unknown language."
                                },
                                {
                                    "0": "Become a Better You: 7 Keys to Improving Your Life Every Day by Joel Osteen in unknown language."
                                },
                                {
                                    "0": "Beezus and Ramona (Ramona, #1) by Beverly Cleary in unknown language."
                                },
                                {
                                    "0": "Before I Go by Colleen Oakley in unknown language."
                                },
                                {
                                    "0": "Behind the Scenes at the Museum by Kate Atkinson in unknown language."
                                },
                                {
                                    "0": "Bella Tuscany by Frances Mayes in unknown language."
                                },
                                {
                                    "0": "Belly Laughs: The Naked Truth About Pregnancy and Childbirth by Jenny McCarthy in unknown language."
                                },
                                {
                                    "0": "Belzhar by Meg Wolitzer in unknown language."
                                },
                                {
                                    "0": "Best Friends for Never (The Clique, #2) by Lisi Harrison in unknown language."
                                },
                                {
                                    "0": "Better Homes and Gardens New Cook Book   by Better Homes and Gardens in unknown language."
                                },
                                {
                                    "0": "Big Bang: The Origin of the Universe by Simon Singh in unknown language."
                                },
                                {
                                    "0": "Big Nate on a Roll (Big Nate Novels, #3) by Lincoln Peirce in unknown language."
                                }
                            ]
                        },
                        "text/html": [
                            "<table>",
                            "<tr><th>BookInfo</th></tr>",
                            "<tr><td>1,000 Places to See Before You Die by Patricia Schultz in unknown language.</td></tr>",
                            "<tr><td>30 Days of Night, Vol. 1 by Steve Niles, Ben Templesmith in unknown language.</td></tr>",
                            "<tr><td>3001: The Final Odyssey (Space Odyssey, #4) by Arthur C. Clarke in unknown language.</td></tr>",
                            "<tr><td>3rd Degree (Women's Murder Club, #3) by James Patterson, Andrew Gross in unknown language.</td></tr>",
                            "<tr><td>90 Minutes in Heaven: A True Story of Death and Life by Don Piper, Cecil Murphey in unknown language.</td></tr>",
                            "<tr><td>A Book of Five Rings: The Classic Guide to Strategy by Miyamoto Musashi, Victor Harris in unknown language.</td></tr>",
                            "<tr><td>A Charlie Brown Christmas by Charles M. Schulz in unknown language.</td></tr>",
                            "<tr><td>A Christmas Carol by Charles Dickens in unknown language.</td></tr>",
                            "<tr><td>A Christmas Carol, The Chimes and The Cricket on the Hearth by Charles Dickens, Katharine Kroeber Wiley in unknown language.</td></tr>",
                            "<tr><td>A Color of His Own by Leo Lionni in unknown language.</td></tr>",
                            "<tr><td>A Course in Miracles by Foundation for Inner Peace in unknown language.</td></tr>",
                            "<tr><td>A Death in Sweden by Kevin Wignall in unknown language.</td></tr>",
                            "<tr><td>A Fall of Marigolds by Susan Meissner in unknown language.</td></tr>",
                            "<tr><td>A Fraction of the Whole by Steve Toltz in unknown language.</td></tr>",
                            "<tr><td>A Game of Thrones / A Clash of Kings (A Song of Ice and Fire, #1-2) by George R.R. Martin in unknown language.</td></tr>",
                            "<tr><td>A Girl Named Zippy by Haven Kimmel in unknown language.</td></tr>",
                            "<tr><td>A Good Man is Hard to Find and Other Stories by Flannery O'Connor in unknown language.</td></tr>",
                            "<tr><td>A Hidden Fire (Elemental Mysteries, #1) by Elizabeth   Hunter in unknown language.</td></tr>",
                            "<tr><td>A Killing Frost (Tomorrow, #3) by John Marsden in unknown language.</td></tr>",
                            "<tr><td>A Kiss for Little Bear (An I Can Read Book) by Minarik, Else Holmelund [1984] by Else Holmelund Minarik, Maurice Sendak in unknown language.</td></tr>",
                            "<tr><td>A Light in the Window (Mitford Years, #2) by Jan Karon in unknown language.</td></tr>",
                            "<tr><td>A Living Nightmare (Cirque Du Freak, #1) by Darren Shan in unknown language.</td></tr>",
                            "<tr><td>A Man in Full by Tom Wolfe in unknown language.</td></tr>",
                            "<tr><td>A Matter of Honor by Jeffrey Archer in unknown language.</td></tr>",
                            "<tr><td>A Modest Proposal by Jonathan Swift in unknown language.</td></tr>",
                            "<tr><td>A New Song (Mitford Years, #5) by Jan Karon in unknown language.</td></tr>",
                            "<tr><td>A Perfect Spy by John le Carré in unknown language.</td></tr>",
                            "<tr><td>A Raisin in the Sun by Lorraine Hansberry in unknown language.</td></tr>",
                            "<tr><td>A Return to Love: Reflections on the Principles of &quot;A Course in Miracles&quot; by Marianne Williamson in unknown language.</td></tr>",
                            "<tr><td>A Sand County Almanac and Sketches Here and There by Aldo Leopold in unknown language.</td></tr>",
                            "<tr><td>A Scandal in Bohemia (The Adventures of Sherlock Holmes, #1) by Ronald Holt, Arthur Conan Doyle in unknown language.</td></tr>",
                            "<tr><td>A Separate Reality by Carlos Castaneda in unknown language.</td></tr>",
                            "<tr><td>A Simple Plan by Scott B. Smith in unknown language.</td></tr>",
                            "<tr><td>A Son of the Circus by John Irving in unknown language.</td></tr>",
                            "<tr><td>A Spell for Chameleon (Xanth #1) by Piers Anthony in unknown language.</td></tr>",
                            "<tr><td>A Summer Affair by Elin Hilderbrand in unknown language.</td></tr>",
                            "<tr><td>A Total Waste of Makeup (Charlize Edwards, #1) by Kim Gruenenfelder in unknown language.</td></tr>",
                            "<tr><td>A Wedding in December by Anita Shreve in unknown language.</td></tr>",
                            "<tr><td>A Widow for One Year by John Irving in unknown language.</td></tr>",
                            "<tr><td>Accident by Danielle Steel in unknown language.</td></tr>",
                            "<tr><td>Act Like a Lady, Think Like a Man: What Men Really Think About Love, Relationships, Intimacy, and Commitment by Steve Harvey in unknown language.</td></tr>",
                            "<tr><td>Adam Bede by George Eliot, Joanna Trollope, Hugh Osborne in unknown language.</td></tr>",
                            "<tr><td>Afterwards by Rosamund Lupton in unknown language.</td></tr>",
                            "<tr><td>Agnes Grey by Anne Brontë, Angeline Goreau in unknown language.</td></tr>",
                            "<tr><td>Alex Cross, Run (Alex Cross, #20) by James Patterson in unknown language.</td></tr>",
                            "<tr><td>All Around the Town by Mary Higgins Clark in unknown language.</td></tr>",
                            "<tr><td>All Families are Psychotic by Douglas Coupland in unknown language.</td></tr>",
                            "<tr><td>All Things Wise and Wonderful by James Herriot in unknown language.</td></tr>",
                            "<tr><td>Allies of the Night (Cirque du Freak, #8) by Darren Shan in unknown language.</td></tr>",
                            "<tr><td>Almost French: Love and a New Life in Paris by Sarah Turnbull in unknown language.</td></tr>",
                            "<tr><td>Amsterdam by Ian McEwan in unknown language.</td></tr>",
                            "<tr><td>Amy and Isabelle  by Elizabeth Strout in unknown language.</td></tr>",
                            "<tr><td>An Essay Concerning Human Understanding by John Locke in unknown language.</td></tr>",
                            "<tr><td>An Illustrated Life: Drawing Inspiration From The Private Sketchbooks Of Artists, Illustrators And Designers by Danny Gregory in unknown language.</td></tr>",
                            "<tr><td>An Old-Fashioned Girl by Louisa May Alcott in unknown language.</td></tr>",
                            "<tr><td>Anastasia Krupnik (Anastasia Krupnik, #1) by Lois Lowry in unknown language.</td></tr>",
                            "<tr><td>Anatomy for the Artist by Jenő Barcsay in unknown language.</td></tr>",
                            "<tr><td>And the Band Played On: Politics, People, and the AIDS Epidemic by Randy Shilts, William Greider in unknown language.</td></tr>",
                            "<tr><td>Andy Goldsworthy: A Collaboration with Nature by Andy Goldsworthy in unknown language.</td></tr>",
                            "<tr><td>Angel Falls by Kristin Hannah in unknown language.</td></tr>",
                            "<tr><td>Angels and Demons / The Da Vinci Code (Robert Langdon, #1-2) by Dan Brown in unknown language.</td></tr>",
                            "<tr><td>Annabel (Delirium, #0.5) by Lauren Oliver in unknown language.</td></tr>",
                            "<tr><td>Anne Frank : The Biography by Melissa Müller, Rita Kimber, Robert Kimber in unknown language.</td></tr>",
                            "<tr><td>Anne Frank: Beyond the Diary - A Photographic Remembrance by Ruud van der Rol, Rian Verhoeven, Anna Quindlen, Anne Frank, Tony Langham, Plym Peters in unknown language.</td></tr>",
                            "<tr><td>Anne Frank's Tales from the Secret Annex by Anne Frank, Susan Massotty in unknown language.</td></tr>",
                            "<tr><td>Anne of Windy Poplars (Anne of Green Gables, #4) by L.M. Montgomery in unknown language.</td></tr>",
                            "<tr><td>Antigone by Jean Anouilh in unknown language.</td></tr>",
                            "<tr><td>Anybody Out There? (Walsh Family, #4) by Marian Keyes in unknown language.</td></tr>",
                            "<tr><td>Apathy and Other Small Victories by Paul Neilan in unknown language.</td></tr>",
                            "<tr><td>April 1865: The Month That Saved America by Jay Winik in unknown language.</td></tr>",
                            "<tr><td>Arch of Triumph: A Novel of a Man Without a Country by Erich Maria Remarque in unknown language.</td></tr>",
                            "<tr><td>Archangel's Blade (Guild Hunter, #4) by Nalini Singh in unknown language.</td></tr>",
                            "<tr><td>Are You There, Vodka? It's Me, Chelsea by Chelsea Handler in unknown language.</td></tr>",
                            "<tr><td>Aristotle and Dante Discover the Secrets of the Universe (Aristotle and Dante Discover the Secrets of the Universe, #1) by Benjamin Alire Sáenz in unknown language.</td></tr>",
                            "<tr><td>Armageddon's Children (Genesis of Shannara, #1) by Terry Brooks in unknown language.</td></tr>",
                            "<tr><td>Arsenic and Old Lace by Joseph Kesselring in unknown language.</td></tr>",
                            "<tr><td>As the Crow Flies by Jeffrey Archer in unknown language.</td></tr>",
                            "<tr><td>Audrey Rose by Frank De Felitta in unknown language.</td></tr>",
                            "<tr><td>Avalon High by Meg Cabot in unknown language.</td></tr>",
                            "<tr><td>Avatar: The Last Airbender (The Promise, #1) by Gene Luen Yang, Bryan Konietzko, Michael Dante DiMartino, Gurihiru in unknown language.</td></tr>",
                            "<tr><td>Away Laughing on a Fast Camel (Confessions of Georgia Nicolson, #5) by Louise Rennison in unknown language.</td></tr>",
                            "<tr><td>Axel (Corps Security, #1) by Harper Sloan in unknown language.</td></tr>",
                            "<tr><td>Babbitt by Sinclair Lewis in unknown language.</td></tr>",
                            "<tr><td>Barefoot Contessa at Home: Everyday Recipes You'll Make Over and Over Again by Ina Garten, Quentin Bacon in unknown language.</td></tr>",
                            "<tr><td>Basket Case by Carl Hiaasen in unknown language.</td></tr>",
                            "<tr><td>Beach Town by Mary Kay Andrews in unknown language.</td></tr>",
                            "<tr><td>Beauty and the Beast by Walt Disney Company, Ellen Titlebaum in unknown language.</td></tr>",
                            "<tr><td>Beauty and the Beast (Disney) by Teddy Slater, Ron Dias, Ric González in unknown language.</td></tr>",
                            "<tr><td>Because I'm Worth It (Gossip Girl, #4) by Cecily von Ziegesar in unknown language.</td></tr>",
                            "<tr><td>Become a Better You: 7 Keys to Improving Your Life Every Day by Joel Osteen in unknown language.</td></tr>",
                            "<tr><td>Beezus and Ramona (Ramona, #1) by Beverly Cleary in unknown language.</td></tr>",
                            "<tr><td>Before I Go by Colleen Oakley in unknown language.</td></tr>",
                            "<tr><td>Behind the Scenes at the Museum by Kate Atkinson in unknown language.</td></tr>",
                            "<tr><td>Bella Tuscany by Frances Mayes in unknown language.</td></tr>",
                            "<tr><td>Belly Laughs: The Naked Truth About Pregnancy and Childbirth by Jenny McCarthy in unknown language.</td></tr>",
                            "<tr><td>Belzhar by Meg Wolitzer in unknown language.</td></tr>",
                            "<tr><td>Best Friends for Never (The Clique, #2) by Lisi Harrison in unknown language.</td></tr>",
                            "<tr><td>Better Homes and Gardens New Cook Book   by Better Homes and Gardens in unknown language.</td></tr>",
                            "<tr><td>Big Bang: The Origin of the Universe by Simon Singh in unknown language.</td></tr>",
                            "<tr><td>Big Nate on a Roll (Big Nate Novels, #3) by Lincoln Peirce in unknown language.</td></tr>",
                            "</table>"
                        ]
                    }
                }
            ],
            "execution_count": 27
        },
        {
            "cell_type": "markdown",
            "source": [
                "9\\. Revisit question 7 using ISNULL instead of COALESCE.\n",
                "\n",
                "> A.  Has this changed the language\\_code  where the values are NULL? Yes, just like coalesce() did."
            ],
            "metadata": {
                "azdata_cell_guid": "57b87290-135f-478d-bf1c-2262759f8da5"
            },
            "attachments": {}
        },
        {
            "cell_type": "code",
            "source": [
                "select top 100 concat(title, ' by ', authors, ' in ', isnull(language_code, 'unknown'), ' language.') as BookInfo\r\n",
                "from BooksDB.dbo.books\r\n",
                "where language_code is null\r\n",
                "order by title, authors, language_code"
            ],
            "metadata": {
                "azdata_cell_guid": "a9670717-6dc6-4685-9f62-7a588753b4a9",
                "language": "sql"
            },
            "outputs": [
                {
                    "output_type": "display_data",
                    "data": {
                        "text/html": "(100 rows affected)"
                    },
                    "metadata": {}
                },
                {
                    "output_type": "display_data",
                    "data": {
                        "text/html": "Total execution time: 00:00:00.085"
                    },
                    "metadata": {}
                },
                {
                    "output_type": "execute_result",
                    "metadata": {},
                    "execution_count": 30,
                    "data": {
                        "application/vnd.dataresource+json": {
                            "schema": {
                                "fields": [
                                    {
                                        "name": "BookInfo"
                                    }
                                ]
                            },
                            "data": [
                                {
                                    "0": "1,000 Places to See Before You Die by Patricia Schultz in unknown language."
                                },
                                {
                                    "0": "30 Days of Night, Vol. 1 by Steve Niles, Ben Templesmith in unknown language."
                                },
                                {
                                    "0": "3001: The Final Odyssey (Space Odyssey, #4) by Arthur C. Clarke in unknown language."
                                },
                                {
                                    "0": "3rd Degree (Women's Murder Club, #3) by James Patterson, Andrew Gross in unknown language."
                                },
                                {
                                    "0": "90 Minutes in Heaven: A True Story of Death and Life by Don Piper, Cecil Murphey in unknown language."
                                },
                                {
                                    "0": "A Book of Five Rings: The Classic Guide to Strategy by Miyamoto Musashi, Victor Harris in unknown language."
                                },
                                {
                                    "0": "A Charlie Brown Christmas by Charles M. Schulz in unknown language."
                                },
                                {
                                    "0": "A Christmas Carol by Charles Dickens in unknown language."
                                },
                                {
                                    "0": "A Christmas Carol, The Chimes and The Cricket on the Hearth by Charles Dickens, Katharine Kroeber Wiley in unknown language."
                                },
                                {
                                    "0": "A Color of His Own by Leo Lionni in unknown language."
                                },
                                {
                                    "0": "A Course in Miracles by Foundation for Inner Peace in unknown language."
                                },
                                {
                                    "0": "A Death in Sweden by Kevin Wignall in unknown language."
                                },
                                {
                                    "0": "A Fall of Marigolds by Susan Meissner in unknown language."
                                },
                                {
                                    "0": "A Fraction of the Whole by Steve Toltz in unknown language."
                                },
                                {
                                    "0": "A Game of Thrones / A Clash of Kings (A Song of Ice and Fire, #1-2) by George R.R. Martin in unknown language."
                                },
                                {
                                    "0": "A Girl Named Zippy by Haven Kimmel in unknown language."
                                },
                                {
                                    "0": "A Good Man is Hard to Find and Other Stories by Flannery O'Connor in unknown language."
                                },
                                {
                                    "0": "A Hidden Fire (Elemental Mysteries, #1) by Elizabeth   Hunter in unknown language."
                                },
                                {
                                    "0": "A Killing Frost (Tomorrow, #3) by John Marsden in unknown language."
                                },
                                {
                                    "0": "A Kiss for Little Bear (An I Can Read Book) by Minarik, Else Holmelund [1984] by Else Holmelund Minarik, Maurice Sendak in unknown language."
                                },
                                {
                                    "0": "A Light in the Window (Mitford Years, #2) by Jan Karon in unknown language."
                                },
                                {
                                    "0": "A Living Nightmare (Cirque Du Freak, #1) by Darren Shan in unknown language."
                                },
                                {
                                    "0": "A Man in Full by Tom Wolfe in unknown language."
                                },
                                {
                                    "0": "A Matter of Honor by Jeffrey Archer in unknown language."
                                },
                                {
                                    "0": "A Modest Proposal by Jonathan Swift in unknown language."
                                },
                                {
                                    "0": "A New Song (Mitford Years, #5) by Jan Karon in unknown language."
                                },
                                {
                                    "0": "A Perfect Spy by John le Carré in unknown language."
                                },
                                {
                                    "0": "A Raisin in the Sun by Lorraine Hansberry in unknown language."
                                },
                                {
                                    "0": "A Return to Love: Reflections on the Principles of \"A Course in Miracles\" by Marianne Williamson in unknown language."
                                },
                                {
                                    "0": "A Sand County Almanac and Sketches Here and There by Aldo Leopold in unknown language."
                                },
                                {
                                    "0": "A Scandal in Bohemia (The Adventures of Sherlock Holmes, #1) by Ronald Holt, Arthur Conan Doyle in unknown language."
                                },
                                {
                                    "0": "A Separate Reality by Carlos Castaneda in unknown language."
                                },
                                {
                                    "0": "A Simple Plan by Scott B. Smith in unknown language."
                                },
                                {
                                    "0": "A Son of the Circus by John Irving in unknown language."
                                },
                                {
                                    "0": "A Spell for Chameleon (Xanth #1) by Piers Anthony in unknown language."
                                },
                                {
                                    "0": "A Summer Affair by Elin Hilderbrand in unknown language."
                                },
                                {
                                    "0": "A Total Waste of Makeup (Charlize Edwards, #1) by Kim Gruenenfelder in unknown language."
                                },
                                {
                                    "0": "A Wedding in December by Anita Shreve in unknown language."
                                },
                                {
                                    "0": "A Widow for One Year by John Irving in unknown language."
                                },
                                {
                                    "0": "Accident by Danielle Steel in unknown language."
                                },
                                {
                                    "0": "Act Like a Lady, Think Like a Man: What Men Really Think About Love, Relationships, Intimacy, and Commitment by Steve Harvey in unknown language."
                                },
                                {
                                    "0": "Adam Bede by George Eliot, Joanna Trollope, Hugh Osborne in unknown language."
                                },
                                {
                                    "0": "Afterwards by Rosamund Lupton in unknown language."
                                },
                                {
                                    "0": "Agnes Grey by Anne Brontë, Angeline Goreau in unknown language."
                                },
                                {
                                    "0": "Alex Cross, Run (Alex Cross, #20) by James Patterson in unknown language."
                                },
                                {
                                    "0": "All Around the Town by Mary Higgins Clark in unknown language."
                                },
                                {
                                    "0": "All Families are Psychotic by Douglas Coupland in unknown language."
                                },
                                {
                                    "0": "All Things Wise and Wonderful by James Herriot in unknown language."
                                },
                                {
                                    "0": "Allies of the Night (Cirque du Freak, #8) by Darren Shan in unknown language."
                                },
                                {
                                    "0": "Almost French: Love and a New Life in Paris by Sarah Turnbull in unknown language."
                                },
                                {
                                    "0": "Amsterdam by Ian McEwan in unknown language."
                                },
                                {
                                    "0": "Amy and Isabelle  by Elizabeth Strout in unknown language."
                                },
                                {
                                    "0": "An Essay Concerning Human Understanding by John Locke in unknown language."
                                },
                                {
                                    "0": "An Illustrated Life: Drawing Inspiration From The Private Sketchbooks Of Artists, Illustrators And Designers by Danny Gregory in unknown language."
                                },
                                {
                                    "0": "An Old-Fashioned Girl by Louisa May Alcott in unknown language."
                                },
                                {
                                    "0": "Anastasia Krupnik (Anastasia Krupnik, #1) by Lois Lowry in unknown language."
                                },
                                {
                                    "0": "Anatomy for the Artist by Jenő Barcsay in unknown language."
                                },
                                {
                                    "0": "And the Band Played On: Politics, People, and the AIDS Epidemic by Randy Shilts, William Greider in unknown language."
                                },
                                {
                                    "0": "Andy Goldsworthy: A Collaboration with Nature by Andy Goldsworthy in unknown language."
                                },
                                {
                                    "0": "Angel Falls by Kristin Hannah in unknown language."
                                },
                                {
                                    "0": "Angels and Demons / The Da Vinci Code (Robert Langdon, #1-2) by Dan Brown in unknown language."
                                },
                                {
                                    "0": "Annabel (Delirium, #0.5) by Lauren Oliver in unknown language."
                                },
                                {
                                    "0": "Anne Frank : The Biography by Melissa Müller, Rita Kimber, Robert Kimber in unknown language."
                                },
                                {
                                    "0": "Anne Frank: Beyond the Diary - A Photographic Remembrance by Ruud van der Rol, Rian Verhoeven, Anna Quindlen, Anne Frank, Tony Langham, Plym Peters in unknown language."
                                },
                                {
                                    "0": "Anne Frank's Tales from the Secret Annex by Anne Frank, Susan Massotty in unknown language."
                                },
                                {
                                    "0": "Anne of Windy Poplars (Anne of Green Gables, #4) by L.M. Montgomery in unknown language."
                                },
                                {
                                    "0": "Antigone by Jean Anouilh in unknown language."
                                },
                                {
                                    "0": "Anybody Out There? (Walsh Family, #4) by Marian Keyes in unknown language."
                                },
                                {
                                    "0": "Apathy and Other Small Victories by Paul Neilan in unknown language."
                                },
                                {
                                    "0": "April 1865: The Month That Saved America by Jay Winik in unknown language."
                                },
                                {
                                    "0": "Arch of Triumph: A Novel of a Man Without a Country by Erich Maria Remarque in unknown language."
                                },
                                {
                                    "0": "Archangel's Blade (Guild Hunter, #4) by Nalini Singh in unknown language."
                                },
                                {
                                    "0": "Are You There, Vodka? It's Me, Chelsea by Chelsea Handler in unknown language."
                                },
                                {
                                    "0": "Aristotle and Dante Discover the Secrets of the Universe (Aristotle and Dante Discover the Secrets of the Universe, #1) by Benjamin Alire Sáenz in unknown language."
                                },
                                {
                                    "0": "Armageddon's Children (Genesis of Shannara, #1) by Terry Brooks in unknown language."
                                },
                                {
                                    "0": "Arsenic and Old Lace by Joseph Kesselring in unknown language."
                                },
                                {
                                    "0": "As the Crow Flies by Jeffrey Archer in unknown language."
                                },
                                {
                                    "0": "Audrey Rose by Frank De Felitta in unknown language."
                                },
                                {
                                    "0": "Avalon High by Meg Cabot in unknown language."
                                },
                                {
                                    "0": "Avatar: The Last Airbender (The Promise, #1) by Gene Luen Yang, Bryan Konietzko, Michael Dante DiMartino, Gurihiru in unknown language."
                                },
                                {
                                    "0": "Away Laughing on a Fast Camel (Confessions of Georgia Nicolson, #5) by Louise Rennison in unknown language."
                                },
                                {
                                    "0": "Axel (Corps Security, #1) by Harper Sloan in unknown language."
                                },
                                {
                                    "0": "Babbitt by Sinclair Lewis in unknown language."
                                },
                                {
                                    "0": "Barefoot Contessa at Home: Everyday Recipes You'll Make Over and Over Again by Ina Garten, Quentin Bacon in unknown language."
                                },
                                {
                                    "0": "Basket Case by Carl Hiaasen in unknown language."
                                },
                                {
                                    "0": "Beach Town by Mary Kay Andrews in unknown language."
                                },
                                {
                                    "0": "Beauty and the Beast by Walt Disney Company, Ellen Titlebaum in unknown language."
                                },
                                {
                                    "0": "Beauty and the Beast (Disney) by Teddy Slater, Ron Dias, Ric González in unknown language."
                                },
                                {
                                    "0": "Because I'm Worth It (Gossip Girl, #4) by Cecily von Ziegesar in unknown language."
                                },
                                {
                                    "0": "Become a Better You: 7 Keys to Improving Your Life Every Day by Joel Osteen in unknown language."
                                },
                                {
                                    "0": "Beezus and Ramona (Ramona, #1) by Beverly Cleary in unknown language."
                                },
                                {
                                    "0": "Before I Go by Colleen Oakley in unknown language."
                                },
                                {
                                    "0": "Behind the Scenes at the Museum by Kate Atkinson in unknown language."
                                },
                                {
                                    "0": "Bella Tuscany by Frances Mayes in unknown language."
                                },
                                {
                                    "0": "Belly Laughs: The Naked Truth About Pregnancy and Childbirth by Jenny McCarthy in unknown language."
                                },
                                {
                                    "0": "Belzhar by Meg Wolitzer in unknown language."
                                },
                                {
                                    "0": "Best Friends for Never (The Clique, #2) by Lisi Harrison in unknown language."
                                },
                                {
                                    "0": "Better Homes and Gardens New Cook Book   by Better Homes and Gardens in unknown language."
                                },
                                {
                                    "0": "Big Bang: The Origin of the Universe by Simon Singh in unknown language."
                                },
                                {
                                    "0": "Big Nate on a Roll (Big Nate Novels, #3) by Lincoln Peirce in unknown language."
                                }
                            ]
                        },
                        "text/html": [
                            "<table>",
                            "<tr><th>BookInfo</th></tr>",
                            "<tr><td>1,000 Places to See Before You Die by Patricia Schultz in unknown language.</td></tr>",
                            "<tr><td>30 Days of Night, Vol. 1 by Steve Niles, Ben Templesmith in unknown language.</td></tr>",
                            "<tr><td>3001: The Final Odyssey (Space Odyssey, #4) by Arthur C. Clarke in unknown language.</td></tr>",
                            "<tr><td>3rd Degree (Women's Murder Club, #3) by James Patterson, Andrew Gross in unknown language.</td></tr>",
                            "<tr><td>90 Minutes in Heaven: A True Story of Death and Life by Don Piper, Cecil Murphey in unknown language.</td></tr>",
                            "<tr><td>A Book of Five Rings: The Classic Guide to Strategy by Miyamoto Musashi, Victor Harris in unknown language.</td></tr>",
                            "<tr><td>A Charlie Brown Christmas by Charles M. Schulz in unknown language.</td></tr>",
                            "<tr><td>A Christmas Carol by Charles Dickens in unknown language.</td></tr>",
                            "<tr><td>A Christmas Carol, The Chimes and The Cricket on the Hearth by Charles Dickens, Katharine Kroeber Wiley in unknown language.</td></tr>",
                            "<tr><td>A Color of His Own by Leo Lionni in unknown language.</td></tr>",
                            "<tr><td>A Course in Miracles by Foundation for Inner Peace in unknown language.</td></tr>",
                            "<tr><td>A Death in Sweden by Kevin Wignall in unknown language.</td></tr>",
                            "<tr><td>A Fall of Marigolds by Susan Meissner in unknown language.</td></tr>",
                            "<tr><td>A Fraction of the Whole by Steve Toltz in unknown language.</td></tr>",
                            "<tr><td>A Game of Thrones / A Clash of Kings (A Song of Ice and Fire, #1-2) by George R.R. Martin in unknown language.</td></tr>",
                            "<tr><td>A Girl Named Zippy by Haven Kimmel in unknown language.</td></tr>",
                            "<tr><td>A Good Man is Hard to Find and Other Stories by Flannery O'Connor in unknown language.</td></tr>",
                            "<tr><td>A Hidden Fire (Elemental Mysteries, #1) by Elizabeth   Hunter in unknown language.</td></tr>",
                            "<tr><td>A Killing Frost (Tomorrow, #3) by John Marsden in unknown language.</td></tr>",
                            "<tr><td>A Kiss for Little Bear (An I Can Read Book) by Minarik, Else Holmelund [1984] by Else Holmelund Minarik, Maurice Sendak in unknown language.</td></tr>",
                            "<tr><td>A Light in the Window (Mitford Years, #2) by Jan Karon in unknown language.</td></tr>",
                            "<tr><td>A Living Nightmare (Cirque Du Freak, #1) by Darren Shan in unknown language.</td></tr>",
                            "<tr><td>A Man in Full by Tom Wolfe in unknown language.</td></tr>",
                            "<tr><td>A Matter of Honor by Jeffrey Archer in unknown language.</td></tr>",
                            "<tr><td>A Modest Proposal by Jonathan Swift in unknown language.</td></tr>",
                            "<tr><td>A New Song (Mitford Years, #5) by Jan Karon in unknown language.</td></tr>",
                            "<tr><td>A Perfect Spy by John le Carré in unknown language.</td></tr>",
                            "<tr><td>A Raisin in the Sun by Lorraine Hansberry in unknown language.</td></tr>",
                            "<tr><td>A Return to Love: Reflections on the Principles of &quot;A Course in Miracles&quot; by Marianne Williamson in unknown language.</td></tr>",
                            "<tr><td>A Sand County Almanac and Sketches Here and There by Aldo Leopold in unknown language.</td></tr>",
                            "<tr><td>A Scandal in Bohemia (The Adventures of Sherlock Holmes, #1) by Ronald Holt, Arthur Conan Doyle in unknown language.</td></tr>",
                            "<tr><td>A Separate Reality by Carlos Castaneda in unknown language.</td></tr>",
                            "<tr><td>A Simple Plan by Scott B. Smith in unknown language.</td></tr>",
                            "<tr><td>A Son of the Circus by John Irving in unknown language.</td></tr>",
                            "<tr><td>A Spell for Chameleon (Xanth #1) by Piers Anthony in unknown language.</td></tr>",
                            "<tr><td>A Summer Affair by Elin Hilderbrand in unknown language.</td></tr>",
                            "<tr><td>A Total Waste of Makeup (Charlize Edwards, #1) by Kim Gruenenfelder in unknown language.</td></tr>",
                            "<tr><td>A Wedding in December by Anita Shreve in unknown language.</td></tr>",
                            "<tr><td>A Widow for One Year by John Irving in unknown language.</td></tr>",
                            "<tr><td>Accident by Danielle Steel in unknown language.</td></tr>",
                            "<tr><td>Act Like a Lady, Think Like a Man: What Men Really Think About Love, Relationships, Intimacy, and Commitment by Steve Harvey in unknown language.</td></tr>",
                            "<tr><td>Adam Bede by George Eliot, Joanna Trollope, Hugh Osborne in unknown language.</td></tr>",
                            "<tr><td>Afterwards by Rosamund Lupton in unknown language.</td></tr>",
                            "<tr><td>Agnes Grey by Anne Brontë, Angeline Goreau in unknown language.</td></tr>",
                            "<tr><td>Alex Cross, Run (Alex Cross, #20) by James Patterson in unknown language.</td></tr>",
                            "<tr><td>All Around the Town by Mary Higgins Clark in unknown language.</td></tr>",
                            "<tr><td>All Families are Psychotic by Douglas Coupland in unknown language.</td></tr>",
                            "<tr><td>All Things Wise and Wonderful by James Herriot in unknown language.</td></tr>",
                            "<tr><td>Allies of the Night (Cirque du Freak, #8) by Darren Shan in unknown language.</td></tr>",
                            "<tr><td>Almost French: Love and a New Life in Paris by Sarah Turnbull in unknown language.</td></tr>",
                            "<tr><td>Amsterdam by Ian McEwan in unknown language.</td></tr>",
                            "<tr><td>Amy and Isabelle  by Elizabeth Strout in unknown language.</td></tr>",
                            "<tr><td>An Essay Concerning Human Understanding by John Locke in unknown language.</td></tr>",
                            "<tr><td>An Illustrated Life: Drawing Inspiration From The Private Sketchbooks Of Artists, Illustrators And Designers by Danny Gregory in unknown language.</td></tr>",
                            "<tr><td>An Old-Fashioned Girl by Louisa May Alcott in unknown language.</td></tr>",
                            "<tr><td>Anastasia Krupnik (Anastasia Krupnik, #1) by Lois Lowry in unknown language.</td></tr>",
                            "<tr><td>Anatomy for the Artist by Jenő Barcsay in unknown language.</td></tr>",
                            "<tr><td>And the Band Played On: Politics, People, and the AIDS Epidemic by Randy Shilts, William Greider in unknown language.</td></tr>",
                            "<tr><td>Andy Goldsworthy: A Collaboration with Nature by Andy Goldsworthy in unknown language.</td></tr>",
                            "<tr><td>Angel Falls by Kristin Hannah in unknown language.</td></tr>",
                            "<tr><td>Angels and Demons / The Da Vinci Code (Robert Langdon, #1-2) by Dan Brown in unknown language.</td></tr>",
                            "<tr><td>Annabel (Delirium, #0.5) by Lauren Oliver in unknown language.</td></tr>",
                            "<tr><td>Anne Frank : The Biography by Melissa Müller, Rita Kimber, Robert Kimber in unknown language.</td></tr>",
                            "<tr><td>Anne Frank: Beyond the Diary - A Photographic Remembrance by Ruud van der Rol, Rian Verhoeven, Anna Quindlen, Anne Frank, Tony Langham, Plym Peters in unknown language.</td></tr>",
                            "<tr><td>Anne Frank's Tales from the Secret Annex by Anne Frank, Susan Massotty in unknown language.</td></tr>",
                            "<tr><td>Anne of Windy Poplars (Anne of Green Gables, #4) by L.M. Montgomery in unknown language.</td></tr>",
                            "<tr><td>Antigone by Jean Anouilh in unknown language.</td></tr>",
                            "<tr><td>Anybody Out There? (Walsh Family, #4) by Marian Keyes in unknown language.</td></tr>",
                            "<tr><td>Apathy and Other Small Victories by Paul Neilan in unknown language.</td></tr>",
                            "<tr><td>April 1865: The Month That Saved America by Jay Winik in unknown language.</td></tr>",
                            "<tr><td>Arch of Triumph: A Novel of a Man Without a Country by Erich Maria Remarque in unknown language.</td></tr>",
                            "<tr><td>Archangel's Blade (Guild Hunter, #4) by Nalini Singh in unknown language.</td></tr>",
                            "<tr><td>Are You There, Vodka? It's Me, Chelsea by Chelsea Handler in unknown language.</td></tr>",
                            "<tr><td>Aristotle and Dante Discover the Secrets of the Universe (Aristotle and Dante Discover the Secrets of the Universe, #1) by Benjamin Alire Sáenz in unknown language.</td></tr>",
                            "<tr><td>Armageddon's Children (Genesis of Shannara, #1) by Terry Brooks in unknown language.</td></tr>",
                            "<tr><td>Arsenic and Old Lace by Joseph Kesselring in unknown language.</td></tr>",
                            "<tr><td>As the Crow Flies by Jeffrey Archer in unknown language.</td></tr>",
                            "<tr><td>Audrey Rose by Frank De Felitta in unknown language.</td></tr>",
                            "<tr><td>Avalon High by Meg Cabot in unknown language.</td></tr>",
                            "<tr><td>Avatar: The Last Airbender (The Promise, #1) by Gene Luen Yang, Bryan Konietzko, Michael Dante DiMartino, Gurihiru in unknown language.</td></tr>",
                            "<tr><td>Away Laughing on a Fast Camel (Confessions of Georgia Nicolson, #5) by Louise Rennison in unknown language.</td></tr>",
                            "<tr><td>Axel (Corps Security, #1) by Harper Sloan in unknown language.</td></tr>",
                            "<tr><td>Babbitt by Sinclair Lewis in unknown language.</td></tr>",
                            "<tr><td>Barefoot Contessa at Home: Everyday Recipes You'll Make Over and Over Again by Ina Garten, Quentin Bacon in unknown language.</td></tr>",
                            "<tr><td>Basket Case by Carl Hiaasen in unknown language.</td></tr>",
                            "<tr><td>Beach Town by Mary Kay Andrews in unknown language.</td></tr>",
                            "<tr><td>Beauty and the Beast by Walt Disney Company, Ellen Titlebaum in unknown language.</td></tr>",
                            "<tr><td>Beauty and the Beast (Disney) by Teddy Slater, Ron Dias, Ric González in unknown language.</td></tr>",
                            "<tr><td>Because I'm Worth It (Gossip Girl, #4) by Cecily von Ziegesar in unknown language.</td></tr>",
                            "<tr><td>Become a Better You: 7 Keys to Improving Your Life Every Day by Joel Osteen in unknown language.</td></tr>",
                            "<tr><td>Beezus and Ramona (Ramona, #1) by Beverly Cleary in unknown language.</td></tr>",
                            "<tr><td>Before I Go by Colleen Oakley in unknown language.</td></tr>",
                            "<tr><td>Behind the Scenes at the Museum by Kate Atkinson in unknown language.</td></tr>",
                            "<tr><td>Bella Tuscany by Frances Mayes in unknown language.</td></tr>",
                            "<tr><td>Belly Laughs: The Naked Truth About Pregnancy and Childbirth by Jenny McCarthy in unknown language.</td></tr>",
                            "<tr><td>Belzhar by Meg Wolitzer in unknown language.</td></tr>",
                            "<tr><td>Best Friends for Never (The Clique, #2) by Lisi Harrison in unknown language.</td></tr>",
                            "<tr><td>Better Homes and Gardens New Cook Book   by Better Homes and Gardens in unknown language.</td></tr>",
                            "<tr><td>Big Bang: The Origin of the Universe by Simon Singh in unknown language.</td></tr>",
                            "<tr><td>Big Nate on a Roll (Big Nate Novels, #3) by Lincoln Peirce in unknown language.</td></tr>",
                            "</table>"
                        ]
                    }
                }
            ],
            "execution_count": 30
        }
    ]
}